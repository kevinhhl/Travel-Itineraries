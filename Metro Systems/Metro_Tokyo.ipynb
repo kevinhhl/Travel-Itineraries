{
  "cells": [
    {
      "cell_type": "code",
      "execution_count": 5,
      "metadata": {
        "id": "3tUFIrNiCL7x"
      },
      "outputs": [],
      "source": [
        "import pandas as pd\n",
        "import networkx as nx"
      ]
    },
    {
      "cell_type": "code",
      "execution_count": 6,
      "metadata": {},
      "outputs": [
        {
          "data": {
            "text/html": [
              "<div>\n",
              "<style scoped>\n",
              "    .dataframe tbody tr th:only-of-type {\n",
              "        vertical-align: middle;\n",
              "    }\n",
              "\n",
              "    .dataframe tbody tr th {\n",
              "        vertical-align: top;\n",
              "    }\n",
              "\n",
              "    .dataframe thead th {\n",
              "        text-align: right;\n",
              "    }\n",
              "</style>\n",
              "<table border=\"1\" class=\"dataframe\">\n",
              "  <thead>\n",
              "    <tr style=\"text-align: right;\">\n",
              "      <th></th>\n",
              "      <th>Line</th>\n",
              "      <th>Station Name</th>\n",
              "      <th>Count</th>\n",
              "    </tr>\n",
              "  </thead>\n",
              "  <tbody>\n",
              "    <tr>\n",
              "      <th>0</th>\n",
              "      <td>Asakusa Line</td>\n",
              "      <td>Nishi-magome</td>\n",
              "      <td>1</td>\n",
              "    </tr>\n",
              "    <tr>\n",
              "      <th>1</th>\n",
              "      <td>Asakusa Line</td>\n",
              "      <td>Magome</td>\n",
              "      <td>1</td>\n",
              "    </tr>\n",
              "    <tr>\n",
              "      <th>2</th>\n",
              "      <td>Asakusa Line</td>\n",
              "      <td>Nakanobu</td>\n",
              "      <td>1</td>\n",
              "    </tr>\n",
              "    <tr>\n",
              "      <th>3</th>\n",
              "      <td>Asakusa Line</td>\n",
              "      <td>Togoshi</td>\n",
              "      <td>1</td>\n",
              "    </tr>\n",
              "    <tr>\n",
              "      <th>4</th>\n",
              "      <td>Asakusa Line</td>\n",
              "      <td>Gotanda</td>\n",
              "      <td>1</td>\n",
              "    </tr>\n",
              "  </tbody>\n",
              "</table>\n",
              "</div>"
            ],
            "text/plain": [
              "           Line  Station Name  Count\n",
              "0  Asakusa Line  Nishi-magome      1\n",
              "1  Asakusa Line        Magome      1\n",
              "2  Asakusa Line      Nakanobu      1\n",
              "3  Asakusa Line       Togoshi      1\n",
              "4  Asakusa Line       Gotanda      1"
            ]
          },
          "execution_count": 6,
          "metadata": {},
          "output_type": "execute_result"
        }
      ],
      "source": [
        "df = pd.read_csv('Subway map - JP_TOKYO.csv')\n",
        "df.head()"
      ]
    },
    {
      "cell_type": "code",
      "execution_count": 7,
      "metadata": {},
      "outputs": [],
      "source": [
        "mtr = nx.Graph()\n",
        "for i in range(len(df)-1):\n",
        "    if df['Line'][i] == df['Line'][i+1]:\n",
        "        edge = (df['Station Name'][i], df['Station Name'][i+1])\n",
        "        mtr.add_edge(*edge) # unpack\n",
        "    else:\n",
        "        mtr.add_node(df['Station Name'][i])\n",
        "    "
      ]
    },
    {
      "cell_type": "markdown",
      "metadata": {},
      "source": [
        "# Application:"
      ]
    },
    {
      "cell_type": "code",
      "execution_count": 12,
      "metadata": {},
      "outputs": [
        {
          "name": "stdout",
          "output_type": "stream",
          "text": [
            "Shortest path from Tsukijishijo to Omotesandō is: \n",
            "['Tsukijishijo', 'Shiodome', 'Daimon', 'Akabanebashi', 'Azabu-juban', 'Roppongi', 'Aoyama-itchome', 'Omotesandō']\n",
            "\n"
          ]
        },
        {
          "data": {
            "text/html": [
              "<div>\n",
              "<style scoped>\n",
              "    .dataframe tbody tr th:only-of-type {\n",
              "        vertical-align: middle;\n",
              "    }\n",
              "\n",
              "    .dataframe tbody tr th {\n",
              "        vertical-align: top;\n",
              "    }\n",
              "\n",
              "    .dataframe thead th {\n",
              "        text-align: right;\n",
              "    }\n",
              "</style>\n",
              "<table border=\"1\" class=\"dataframe\">\n",
              "  <thead>\n",
              "    <tr style=\"text-align: right;\">\n",
              "      <th></th>\n",
              "      <th>Line</th>\n",
              "      <th>Station Name</th>\n",
              "    </tr>\n",
              "  </thead>\n",
              "  <tbody>\n",
              "    <tr>\n",
              "      <th>0</th>\n",
              "      <td>-&gt; Oedo Line</td>\n",
              "      <td>Tsukijishijo</td>\n",
              "    </tr>\n",
              "    <tr>\n",
              "      <th>1</th>\n",
              "      <td>-&gt; Oedo Line</td>\n",
              "      <td>Shiodome</td>\n",
              "    </tr>\n",
              "    <tr>\n",
              "      <th>2</th>\n",
              "      <td>/Asakusa Line/Oedo Line/</td>\n",
              "      <td>Daimon</td>\n",
              "    </tr>\n",
              "    <tr>\n",
              "      <th>3</th>\n",
              "      <td>-&gt; Oedo Line</td>\n",
              "      <td>Akabanebashi</td>\n",
              "    </tr>\n",
              "    <tr>\n",
              "      <th>4</th>\n",
              "      <td>/Oedo Line/Namboku Line/</td>\n",
              "      <td>Azabu-juban</td>\n",
              "    </tr>\n",
              "    <tr>\n",
              "      <th>5</th>\n",
              "      <td>/Oedo Line/Hibiya Line/</td>\n",
              "      <td>Roppongi</td>\n",
              "    </tr>\n",
              "    <tr>\n",
              "      <th>6</th>\n",
              "      <td>/Oedo Line/Ginza Line/Hanzomon Line/</td>\n",
              "      <td>Aoyama-itchome</td>\n",
              "    </tr>\n",
              "    <tr>\n",
              "      <th>7</th>\n",
              "      <td>/Ginza Line/Chiyoda Line 1/Hanzomon Line/</td>\n",
              "      <td>Omotesandō</td>\n",
              "    </tr>\n",
              "  </tbody>\n",
              "</table>\n",
              "</div>"
            ],
            "text/plain": [
              "                                        Line    Station Name\n",
              "0                               -> Oedo Line    Tsukijishijo\n",
              "1                               -> Oedo Line        Shiodome\n",
              "2                   /Asakusa Line/Oedo Line/          Daimon\n",
              "3                               -> Oedo Line    Akabanebashi\n",
              "4                   /Oedo Line/Namboku Line/     Azabu-juban\n",
              "5                    /Oedo Line/Hibiya Line/        Roppongi\n",
              "6       /Oedo Line/Ginza Line/Hanzomon Line/  Aoyama-itchome\n",
              "7  /Ginza Line/Chiyoda Line 1/Hanzomon Line/      Omotesandō"
            ]
          },
          "execution_count": 12,
          "metadata": {},
          "output_type": "execute_result"
        }
      ],
      "source": [
        "start_station = 'Tsukijishijo'\n",
        "end_station = 'Omotesandō'\n",
        "\n",
        "# Using Dijkstra's algorithm:\n",
        "print(\"Shortest path from {} to {} is: \".format(start_station, end_station))\n",
        "path = nx.shortest_path(mtr, source=start_station, target=end_station)\n",
        "print(path, end=\"\\n\\n\")\n",
        "\n",
        "# Print the path:\n",
        "df_print = pd.DataFrame({'Line': [], 'Station Name': []})\n",
        "\n",
        "for _stationName in path:\n",
        "    _df_filtered = df[df['Station Name']==_stationName] \n",
        "    if len(_df_filtered) == 1:\n",
        "        _lineName = \"-> \" + _df_filtered['Line'].values[0]\n",
        "\n",
        "    elif len(_df_filtered) > 1:\n",
        "        __lineName = _df_filtered['Line'].values\n",
        "        _lineName = \"/\" \n",
        "        for i in __lineName:\n",
        "            _lineName += i + \"/\" \n",
        "\n",
        "    df_print = pd.concat([df_print, pd.DataFrame({'Line': [_lineName], 'Station Name': [_stationName]})], ignore_index=True)\n",
        "\n",
        "df_print "
      ]
    }
  ],
  "metadata": {
    "colab": {
      "provenance": []
    },
    "kernelspec": {
      "display_name": "Python 3",
      "name": "python3"
    },
    "language_info": {
      "codemirror_mode": {
        "name": "ipython",
        "version": 3
      },
      "file_extension": ".py",
      "mimetype": "text/x-python",
      "name": "python",
      "nbconvert_exporter": "python",
      "pygments_lexer": "ipython3",
      "version": "3.10.9"
    }
  },
  "nbformat": 4,
  "nbformat_minor": 0
}
