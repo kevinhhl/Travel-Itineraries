{
  "cells": [
    {
      "cell_type": "code",
      "execution_count": 1,
      "metadata": {
        "id": "3tUFIrNiCL7x"
      },
      "outputs": [],
      "source": [
        "import pandas as pd\n",
        "import networkx as nx"
      ]
    },
    {
      "cell_type": "code",
      "execution_count": 2,
      "metadata": {},
      "outputs": [
        {
          "data": {
            "text/html": [
              "<div>\n",
              "<style scoped>\n",
              "    .dataframe tbody tr th:only-of-type {\n",
              "        vertical-align: middle;\n",
              "    }\n",
              "\n",
              "    .dataframe tbody tr th {\n",
              "        vertical-align: top;\n",
              "    }\n",
              "\n",
              "    .dataframe thead th {\n",
              "        text-align: right;\n",
              "    }\n",
              "</style>\n",
              "<table border=\"1\" class=\"dataframe\">\n",
              "  <thead>\n",
              "    <tr style=\"text-align: right;\">\n",
              "      <th></th>\n",
              "      <th>Line</th>\n",
              "      <th>Station Name</th>\n",
              "      <th>Count</th>\n",
              "    </tr>\n",
              "  </thead>\n",
              "  <tbody>\n",
              "    <tr>\n",
              "      <th>0</th>\n",
              "      <td>Asakusa Line</td>\n",
              "      <td>Nishi-magome</td>\n",
              "      <td>1</td>\n",
              "    </tr>\n",
              "    <tr>\n",
              "      <th>1</th>\n",
              "      <td>Asakusa Line</td>\n",
              "      <td>Magome</td>\n",
              "      <td>1</td>\n",
              "    </tr>\n",
              "    <tr>\n",
              "      <th>2</th>\n",
              "      <td>Asakusa Line</td>\n",
              "      <td>Nakanobu</td>\n",
              "      <td>1</td>\n",
              "    </tr>\n",
              "    <tr>\n",
              "      <th>3</th>\n",
              "      <td>Asakusa Line</td>\n",
              "      <td>Togoshi</td>\n",
              "      <td>1</td>\n",
              "    </tr>\n",
              "    <tr>\n",
              "      <th>4</th>\n",
              "      <td>Asakusa Line</td>\n",
              "      <td>Gotanda</td>\n",
              "      <td>1</td>\n",
              "    </tr>\n",
              "  </tbody>\n",
              "</table>\n",
              "</div>"
            ],
            "text/plain": [
              "           Line  Station Name  Count\n",
              "0  Asakusa Line  Nishi-magome      1\n",
              "1  Asakusa Line        Magome      1\n",
              "2  Asakusa Line      Nakanobu      1\n",
              "3  Asakusa Line       Togoshi      1\n",
              "4  Asakusa Line       Gotanda      1"
            ]
          },
          "execution_count": 2,
          "metadata": {},
          "output_type": "execute_result"
        }
      ],
      "source": [
        "df = pd.read_csv('Subway map - JP_TOKYO.csv')\n",
        "df.head()"
      ]
    },
    {
      "cell_type": "code",
      "execution_count": 3,
      "metadata": {},
      "outputs": [
        {
          "data": {
            "text/plain": [
              "array(['Asakusa Line', 'Mita Line', 'Shinjuku Line', 'Oedo Line',\n",
              "       'Rinkai Line', 'Ginza Line', 'Marunouchi Line',\n",
              "       'Marunouchi Branch Line', 'Hibiya Line', 'Tozai Line',\n",
              "       'Chiyoda Line 1', 'Chiyoda Line 2', 'Yurakucho Line',\n",
              "       'Hanzomon Line', 'Namboku Line', 'Fukutoshin Line'], dtype=object)"
            ]
          },
          "execution_count": 3,
          "metadata": {},
          "output_type": "execute_result"
        }
      ],
      "source": [
        "df['Line'].unique()"
      ]
    },
    {
      "cell_type": "code",
      "execution_count": 4,
      "metadata": {},
      "outputs": [],
      "source": [
        "mtr = nx.Graph()\n",
        "for i in range(len(df)-1):\n",
        "    if df['Line'][i] == df['Line'][i+1]:\n",
        "        edge = (df['Station Name'][i], df['Station Name'][i+1])\n",
        "        mtr.add_edge(*edge) # unpack\n",
        "    else:\n",
        "        mtr.add_node(df['Station Name'][i])\n",
        "    "
      ]
    },
    {
      "cell_type": "markdown",
      "metadata": {},
      "source": [
        "# Application:"
      ]
    },
    {
      "cell_type": "code",
      "execution_count": 5,
      "metadata": {},
      "outputs": [
        {
          "name": "stdout",
          "output_type": "stream",
          "text": [
            "Shortest path from Tsukijishijo to Oshiage is: \n"
          ]
        },
        {
          "data": {
            "text/plain": [
              "['Tsukijishijo',\n",
              " 'Kachidoki',\n",
              " 'Tsukishima',\n",
              " 'Monzen-Nakachō',\n",
              " 'Kiyosumi-shirakawa',\n",
              " 'Sumiyoshi',\n",
              " 'Kinshichō',\n",
              " 'Oshiage']"
            ]
          },
          "execution_count": 5,
          "metadata": {},
          "output_type": "execute_result"
        }
      ],
      "source": [
        "start_station = 'Tsukijishijo'\n",
        "end_station = 'Oshiage'\n",
        "\n",
        "# Using Dijkstra's algorithm:\n",
        "path = nx.shortest_path(mtr, source=start_station, target=end_station)\n",
        "print(\"Shortest path from {} to {} is: \".format(start_station, end_station))\n",
        "path\n"
      ]
    }
  ],
  "metadata": {
    "colab": {
      "provenance": []
    },
    "kernelspec": {
      "display_name": "Python 3",
      "name": "python3"
    },
    "language_info": {
      "codemirror_mode": {
        "name": "ipython",
        "version": 3
      },
      "file_extension": ".py",
      "mimetype": "text/x-python",
      "name": "python",
      "nbconvert_exporter": "python",
      "pygments_lexer": "ipython3",
      "version": "3.8.8"
    }
  },
  "nbformat": 4,
  "nbformat_minor": 0
}
